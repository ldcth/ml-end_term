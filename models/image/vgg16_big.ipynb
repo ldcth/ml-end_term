{
  "cells": [
    {
      "cell_type": "code",
      "execution_count": 4,
      "metadata": {
        "id": "_cv14wQP0C9r"
      },
      "outputs": [],
      "source": [
        "import os\n",
        "import os.path as osp\n",
        "\n",
        "import numpy as np\n",
        "import pandas as pd\n",
        "import torch\n",
        "import torch.nn as nn\n",
        "import torchvision\n",
        "import shutil\n",
        "import time\n",
        "\n",
        "from tqdm import tqdm\n",
        "\n",
        "device = 'cuda' if torch.cuda.is_available() else 'gpu'\n",
        "import copy\n",
        "\n",
        "import torch.nn as nn\n",
        "from sklearn.metrics import accuracy_score, confusion_matrix\n"
      ]
    },
    {
      "cell_type": "code",
      "execution_count": 7,
      "metadata": {},
      "outputs": [],
      "source": [
        "IMAGE_TEST_BASE_PATH = '../images-test/'\n",
        "IMAGE_TRAIN_BASE_PATH = '../images-train/'\n",
        "IMAGE_VAL_BASE_PATH = '../images-val'\n"
      ]
    },
    {
      "cell_type": "code",
      "execution_count": 3,
      "metadata": {},
      "outputs": [
        {
          "data": {
            "text/plain": [
              "['Cookbooks, Food & Wine',\n",
              " 'Science Fiction & Fantasy',\n",
              " 'Computers & Technology',\n",
              " 'Science & Math',\n",
              " 'Travel',\n",
              " 'Test Preparation',\n",
              " 'Sports & Outdoors',\n",
              " \"Children's Books\",\n",
              " 'Comics & Graphic Novels',\n",
              " 'Romance']"
            ]
          },
          "execution_count": 3,
          "metadata": {},
          "output_type": "execute_result"
        }
      ],
      "source": [
        "os.listdir(IMAGE_TRAIN_BASE_PATH)"
      ]
    },
    {
      "cell_type": "code",
      "execution_count": 6,
      "metadata": {
        "id": "CajBfi8Lbmhr"
      },
      "outputs": [],
      "source": [
        "\n",
        "if not osp.exists(IMAGE_VAL_BASE_PATH):\n",
        "    os.mkdir(IMAGE_VAL_BASE_PATH)\n",
        "\n",
        "for cat in os.listdir(IMAGE_TRAIN_BASE_PATH):\n",
        "    image_val_cat_path = osp.join(IMAGE_VAL_BASE_PATH, cat)\n",
        "    if not osp.exists(image_val_cat_path):\n",
        "        os.mkdir(image_val_cat_path)\n",
        "    image_cat_path = osp.join(IMAGE_TRAIN_BASE_PATH, cat)\n",
        "    imgs = os.listdir(image_cat_path)\n",
        "    num_img = len(imgs)\n",
        "    take = int((7800/70000) * num_img)\n",
        "    for i in range(take):\n",
        "        img_name = imgs[i]\n",
        "        img_path = osp.join(image_cat_path, img_name)\n",
        "        os.rename(img_path, osp.join(image_val_cat_path, img_name))"
      ]
    },
    {
      "cell_type": "code",
      "execution_count": 5,
      "metadata": {
        "id": "kPgId8iJNwTT"
      },
      "outputs": [],
      "source": [
        "# import os\n",
        "\n",
        "# os.rmdir('./images-val/Category')"
      ]
    },
    {
      "cell_type": "code",
      "execution_count": null,
      "metadata": {
        "id": "ByvmEJPWNgSj"
      },
      "outputs": [],
      "source": [
        "# os.listdir('./images-train')\n"
      ]
    },
    {
      "cell_type": "code",
      "execution_count": 8,
      "metadata": {
        "id": "gY3OQEwHZ12p"
      },
      "outputs": [],
      "source": [
        "\n",
        "\n",
        "# train_dataset = torchvision.datasets.ImageFolder(\n",
        "#     'images-train',\n",
        "#     transform=torchvision.transforms.Compose([\n",
        "#         # Resize step is required as we will use a ResNet model, which accepts at leats 224x224 images\n",
        "#         torchvision.transforms.Resize((224,224)),\n",
        "#         torchvision.transforms.ToTensor(),\n",
        "#     ]),\n",
        "#     # is_valid_file=lambda x: True if any(fname.lower().endswith(('.png', '.jpg', '.jpeg', '.bmp', '.ppm', '.pgm', '.tif', '.tiff', '.webp')) for fname in os.listdir(x)) else False\n",
        "\n",
        "# )\n",
        "\n",
        "# train_dataloader = torch.utils.data.DataLoader(train_dataset, batch_size=512, shuffle=False, num_workers=2, pin_memory=True)\n",
        "\n",
        "# means = []\n",
        "# stdevs = []\n",
        "# for X, _ in train_dataloader:\n",
        "#     # Dimensions 0,2,3 are respectively the batch, height and width dimensions\n",
        "#     means.append(X.mean(dim=(0,2,3)))\n",
        "#     stdevs.append(X.std(dim=(0,2,3)))\n",
        "\n",
        "# mean = torch.stack(means, dim=0).mean(dim=0)\n",
        "# stdev = torch.stack(stdevs, dim=0).mean(dim=0)"
      ]
    },
    {
      "cell_type": "code",
      "execution_count": 9,
      "metadata": {
        "id": "oFgqec8ycwh9"
      },
      "outputs": [],
      "source": [
        "# train_transforms = torchvision.transforms.Compose([\n",
        "#         torchvision.transforms.Resize((224,224)),\n",
        "#         torchvision.transforms.AutoAugment(policy=torchvision.transforms.AutoAugmentPolicy.CIFAR10),\n",
        "#         torchvision.transforms.ToTensor(),\n",
        "#         torchvision.transforms.Normalize(mean, stdev)\n",
        "#     ])\n",
        "\n",
        "# train_dataset, test_dataset = [torchvision.datasets.ImageFolder(folder, transform=train_transforms) for folder in ['images_train', 'images_test']]"
      ]
    },
    {
      "cell_type": "code",
      "execution_count": 5,
      "metadata": {
        "id": "AkgshO5-g1YA"
      },
      "outputs": [],
      "source": [
        "mean, stdev = torch.Tensor([0.5483, 0.5152, 0.4714]), torch.Tensor([0.3267, 0.3070, 0.3118])"
      ]
    },
    {
      "cell_type": "code",
      "execution_count": 8,
      "metadata": {},
      "outputs": [],
      "source": [
        "train_transforms = torchvision.transforms.Compose([\n",
        "        torchvision.transforms.Resize((224,224)),\n",
        "        torchvision.transforms.AutoAugment(policy=torchvision.transforms.AutoAugmentPolicy.CIFAR10),\n",
        "        torchvision.transforms.ToTensor(),\n",
        "        torchvision.transforms.Normalize(mean, stdev)\n",
        "    ])\n",
        "test_transforms = torchvision.transforms.Compose([\n",
        "        torchvision.transforms.Resize((224,224)),\n",
        "        torchvision.transforms.ToTensor(),\n",
        "        torchvision.transforms.Normalize(mean, stdev)\n",
        "    ])\n",
        "train_dataset, val_dataset = [torchvision.datasets.ImageFolder(folder, transform=train_transforms) for folder in [IMAGE_TRAIN_BASE_PATH, IMAGE_VAL_BASE_PATH]]\n",
        "test_dataset = torchvision.datasets.ImageFolder(IMAGE_TEST_BASE_PATH, transform=test_transforms)"
      ]
    },
    {
      "cell_type": "code",
      "execution_count": 7,
      "metadata": {
        "id": "kLVgkKIBruRd"
      },
      "outputs": [],
      "source": [
        "## eval\n",
        "\n",
        "train_transforms = torchvision.transforms.Compose([\n",
        "        torchvision.transforms.Resize((224,224)),\n",
        "        torchvision.transforms.AutoAugment(policy=torchvision.transforms.AutoAugmentPolicy.CIFAR10),\n",
        "        torchvision.transforms.ToTensor(),\n",
        "        torchvision.transforms.Normalize(mean, stdev)\n",
        "    ])\n",
        "test_transforms = torchvision.transforms.Compose([\n",
        "        torchvision.transforms.Resize((224,224)),\n",
        "        torchvision.transforms.ToTensor(),\n",
        "        torchvision.transforms.Normalize(mean, stdev)\n",
        "    ])\n",
        "train_dataset, = [torchvision.datasets.ImageFolder(folder, transform=test_transforms) for folder in [IMAGE_TRAIN_BASE_PATH]]\n",
        "test_dataset = torchvision.datasets.ImageFolder(IMAGE_TEST_BASE_PATH, transform=test_transforms)"
      ]
    },
    {
      "cell_type": "code",
      "execution_count": 9,
      "metadata": {
        "colab": {
          "base_uri": "https://localhost:8080/"
        },
        "id": "PxpiB9RTr8jm",
        "outputId": "d8562783-fc4a-4603-c1b6-f29142abb1f5"
      },
      "outputs": [
        {
          "data": {
            "text/plain": [
              "(62372, 7818, 6577)"
            ]
          },
          "execution_count": 9,
          "metadata": {},
          "output_type": "execute_result"
        }
      ],
      "source": [
        "len(train_dataset), len(val_dataset), len(test_dataset)"
      ]
    },
    {
      "cell_type": "code",
      "execution_count": 10,
      "metadata": {
        "id": "qkIcibFtgx-J"
      },
      "outputs": [],
      "source": [
        "num_gpus = torch.cuda.device_count()\n",
        "\n",
        "train_dataloader = (torch.utils.data.DataLoader(train_dataset, batch_size=256, shuffle=False, num_workers=2*num_gpus, pin_memory=True))\n",
        "val_dataloader = (torch.utils.data.DataLoader(val_dataset, batch_size=256, shuffle=False, num_workers=2*num_gpus, pin_memory=True))\n",
        "test_dataloader = (torch.utils.data.DataLoader(test_dataset, batch_size=64, shuffle=False, num_workers=2*num_gpus, pin_memory=True))"
      ]
    },
    {
      "cell_type": "code",
      "execution_count": 20,
      "metadata": {
        "id": "VpHp8enTg5-Q"
      },
      "outputs": [],
      "source": [
        "def get_net():\n",
        "    vgg = torchvision.models.vgg16(pretrained=True)\n",
        "    for param in vgg.parameters():\n",
        "        param.requires_grad = False\n",
        "    # Unfreeze the last layer\n",
        "    vgg.classifier[6] = torch.nn.Linear(4096, 10)\n",
        "    for param in vgg.classifier.parameters():\n",
        "        param.requires_grad = True\n",
        "\n",
        "    # vgg.classifier[6].requires_grad = True\n",
        "    # Substitute the FC output layer\n",
        "    return vgg"
      ]
    },
    {
      "cell_type": "code",
      "execution_count": 17,
      "metadata": {
        "id": "0GPW3K2shBMS"
      },
      "outputs": [],
      "source": [
        "import time\n",
        "from tqdm import tqdm\n",
        "import shutil\n",
        "\n",
        "CKPT_PATH = f'./ckpt/vgg16big_best.pth.tar'\n",
        "\n",
        "\n",
        "def train(net, train_dataloader, val_dataloader, criterion, optimizer, scheduler=None, scaler=None, epochs=10, patient=5, device='gpu', checkpoint_epochs=50):\n",
        "    start = time.time()\n",
        "    print(f'Training for {epochs} epochs on {device}')\n",
        "    max_val_acc = 0\n",
        "    current = 0\n",
        "    best_val_epoch = -1\n",
        "\n",
        "    # dataloader_progressbar = tqdm(train_dataloader)\n",
        "    # val_dataloader_progressbar = tqdm(val_dataloader)\n",
        "\n",
        "    for epoch in range(1,epochs+1):\n",
        "        print(f\"Epoch {epoch}/{epochs}\")\n",
        "\n",
        "        net.train()  # put network in train mode for Dropout and Batch Normalization\n",
        "        train_loss = torch.tensor(0., device=device)  # loss and accuracy tensors are on the GPU to avoid data transfers\n",
        "        train_accuracy = torch.tensor(0., device=device)\n",
        "        val_loss = torch.tensor(0., device=device)\n",
        "        val_accuracy = torch.tensor(0., device=device)\n",
        "        for X, y in tqdm(train_dataloader):\n",
        "            X = X.to(device)\n",
        "            y = y.to(device)\n",
        "            with torch.autocast(device_type=device, dtype=torch.float16, enabled=True):\n",
        "                preds = net(X)\n",
        "                loss = criterion(preds, y)\n",
        "            scaler.scale(loss).backward()\n",
        "            scaler.step(optimizer)\n",
        "            scaler.update()\n",
        "            # optimizer.zero_grad()\n",
        "            # loss.backward()\n",
        "            # optimizer.step()\n",
        "            optimizer.zero_grad(set_to_none=True)\n",
        "\n",
        "            with torch.no_grad():\n",
        "                train_loss += loss * train_dataloader.batch_size\n",
        "                train_accuracy += (torch.argmax(preds, dim=1) == y).sum()\n",
        "        with torch.no_grad():\n",
        "            for X, y in tqdm(val_dataloader):\n",
        "                X = X.to(device)\n",
        "                y = y.to(device)\n",
        "                preds = net(X)\n",
        "                loss = criterion(preds, y)\n",
        "                val_loss += loss * val_dataloader.batch_size\n",
        "                val_accuracy += (torch.argmax(preds, dim=1)==y).sum()\n",
        "\n",
        "\n",
        "        if scheduler is not None:\n",
        "            scheduler.step()\n",
        "\n",
        "        print(f'Training loss: {train_loss/len(train_dataloader.dataset):.2f}')\n",
        "        print(f'Training accuracy: {100*train_accuracy/len(train_dataloader.dataset):.2f}')\n",
        "\n",
        "        epoch_val_acc = 100*val_accuracy/len(val_dataloader.dataset)\n",
        "        print(f'Val accuracy: {epoch_val_acc:.2f}')\n",
        "        print(f'Best val accuracy: {max_val_acc}')\n",
        "\n",
        "        if epoch_val_acc <= max_val_acc:\n",
        "            current+=1\n",
        "            if current==patient:\n",
        "                print(f\"reload checkpoint {best_val_epoch} with val accuracy {max_val_acc}\")\n",
        "                checkpoint = torch.load(CKPT_PATH)\n",
        "                net.load_state_dict(checkpoint['state_dict'])\n",
        "                optimizer.load_state_dict(checkpoint['optimizer'])\n",
        "                scaler.load_state_dict(checkpoint['scaler'])\n",
        "                current=0\n",
        "        else:\n",
        "            current = 0\n",
        "            max_val_acc = epoch_val_acc\n",
        "            best_val_epoch = epoch\n",
        "            print(f\"Best epoch {epoch} with val accuracy {epoch_val_acc}\")\n",
        "            print(\"Save checkpoint to {}\".format(CKPT_PATH))\n",
        "            torch.save({\n",
        "                'epoch': epoch,\n",
        "                'state_dict': net.state_dict(),\n",
        "                'optimizer': optimizer.state_dict(),\n",
        "                \"scaler\": scaler.state_dict()\n",
        "            }, CKPT_PATH)\n",
        "\n",
        "        # if epoch%checkpoint_epochs==0:\n",
        "        #     torch.save({\n",
        "        #         'epoch': epoch,\n",
        "        #         'state_dict': net.state_dict(),\n",
        "        #         'optimizer': optimizer.state_dict(),\n",
        "        #     }, f'/content/drive/MyDrive/ML/ckpt/tho/vgg16_12k/checkpoint_{epoch}.pth.tar')\n",
        "\n",
        "        print()\n",
        "\n",
        "    end = time.time()\n",
        "    print(f'Total training time: {end-start:.1f} seconds')\n",
        "    return net"
      ]
    },
    {
      "cell_type": "code",
      "execution_count": 11,
      "metadata": {
        "id": "gQahzyKOXDGk"
      },
      "outputs": [],
      "source": [
        "# a = torch.load('/content/drive/MyDrive/ML/end_term/checkpoint.pth.tar')\n",
        "# print(a.keys())"
      ]
    },
    {
      "cell_type": "code",
      "execution_count": 13,
      "metadata": {
        "id": "nE9210m8ipm7"
      },
      "outputs": [],
      "source": [
        "def resume_train():\n",
        "    device = 'cuda' if torch.cuda.is_available() else 'gpu'\n",
        "    model = get_net().to(device)\n",
        "    criterion = torch.nn.CrossEntropyLoss()\n",
        "    # use_amp = True\n",
        "    # scaler = torch.cuda.amp.GradScaler(enabled=use_amp)\n",
        "    lr, weight_decay, epochs = 1e-5, 5e-4, 50\n",
        "    params_1x = [param for name, param in model.named_parameters() if 'fc' not in str(name)]\n",
        "    # optimizer = torch.optim.Adam([{'params':params_1x}, {'params': model.fc.parameters(), 'lr': lr*10}], lr=lr, weight_decay=weight_decay)\n",
        "\n",
        "    optimizer = torch.optim.Adam(model.parameters())\n",
        "    checkpoint = torch.load(f'/content/drive/MyDrive/ML/ckpt/resnet/checkpoint_best.pth.tar')\n",
        "    model.load_state_dict(checkpoint['state_dict'])\n",
        "    optimizer.load_state_dict(checkpoint['optimizer'])\n",
        "    # scaler.load_state_dict(checkpoint['scaler'])\n",
        "    epoch = checkpoint[\"epoch\"] + 1\n",
        "    max_val_acc = checkpoint[\"val_acc\"]\n",
        "    # epoch = 1\n",
        "    # max_val_acc = 0\n",
        "    return model, criterion, optimizer, epoch, max_val_acc"
      ]
    },
    {
      "cell_type": "code",
      "execution_count": 14,
      "metadata": {
        "colab": {
          "base_uri": "https://localhost:8080/",
          "height": 338
        },
        "id": "_TcHoN4rsrt3",
        "outputId": "aef12d03-c17a-4985-f279-81d748c0707f"
      },
      "outputs": [],
      "source": [
        "# checkpoint = torch.load(f'/content/drive/MyDrive/ML/ckpt/resnet/checkpoint_best.pth.tar')\n",
        "# checkpoint.keys()"
      ]
    },
    {
      "cell_type": "code",
      "execution_count": 15,
      "metadata": {
        "colab": {
          "base_uri": "https://localhost:8080/"
        },
        "id": "tHyvI21ejlf8",
        "outputId": "12ce0d18-5d44-450a-b94c-9b811fbb0ed1"
      },
      "outputs": [],
      "source": [
        "# model, criterion, optimizer, epoch, max_val_acc = resume_train()"
      ]
    },
    {
      "cell_type": "code",
      "execution_count": 21,
      "metadata": {},
      "outputs": [],
      "source": [
        "device = 'cuda' if torch.cuda.is_available() else 'gpu'\n",
        "lr, weight_decay, epochs = 1e-5, 5e-4, 50\n",
        "\n",
        "model = get_net().to(device)\n",
        "\n",
        "# Standard CrossEntropy Loss for multi-class classification problems\n",
        "criterion = torch.nn.CrossEntropyLoss()\n",
        "use_amp = True\n",
        "scaler = torch.cuda.amp.GradScaler(enabled=use_amp)\n",
        "optimizer = torch.optim.Adam(model.parameters())\n",
        "\n",
        "net = train(model, train_dataloader=train_dataloader, val_dataloader=val_dataloader,\n",
        "            criterion=criterion, optimizer=optimizer, scaler=scaler, scheduler=None, epochs=epochs,\n",
        "            patient=10, device=device)"
      ]
    },
    {
      "cell_type": "code",
      "execution_count": 17,
      "metadata": {
        "colab": {
          "base_uri": "https://localhost:8080/",
          "height": 731
        },
        "id": "n-DtJ0qEkccI",
        "outputId": "d15efd15-3925-4e76-be4c-8b2d64450f61"
      },
      "outputs": [],
      "source": [
        "\n",
        "# net = train(model, train_dataloader=train_dataloader, val_dataloader=val_dataloader,\n",
        "#             criterion=criterion, optimizer=optimizer, scheduler=None,\n",
        "#             epochs=50, patient=10, device=device, checkpoint_epochs=1, start_epoch=epoch,\n",
        "#             max_val_acc=max_val_acc)"
      ]
    },
    {
      "cell_type": "code",
      "execution_count": 18,
      "metadata": {},
      "outputs": [],
      "source": [
        "checkpoint = torch.load('ckpt/vgg16big.pth.tar')"
      ]
    },
    {
      "cell_type": "code",
      "execution_count": 21,
      "metadata": {},
      "outputs": [],
      "source": [
        "import gc\n",
        "\n",
        "gc.collect()\n",
        "torch.cuda.empty_cache()"
      ]
    },
    {
      "cell_type": "code",
      "execution_count": 19,
      "metadata": {
        "id": "O8y3MpexzJGS"
      },
      "outputs": [],
      "source": [
        "class ModelSoftmax(nn.Module):\n",
        "    def __init__(self, model):\n",
        "        super().__init__()\n",
        "        self.model = model\n",
        "        self.softmax = nn.Softmax(dim=1)\n",
        "    def forward(self, x):\n",
        "        x = self.model(x)\n",
        "        y = self.softmax(x)\n",
        "        return y\n"
      ]
    },
    {
      "cell_type": "code",
      "execution_count": 20,
      "metadata": {
        "id": "RrCgHX8U0tUy"
      },
      "outputs": [],
      "source": [
        "net = get_net()\n",
        "net.load_state_dict(checkpoint['state_dict'])\n",
        "netsoftmax = ModelSoftmax(net).to(device).eval()"
      ]
    },
    {
      "cell_type": "code",
      "execution_count": 31,
      "metadata": {},
      "outputs": [
        {
          "data": {
            "text/plain": [
              "Linear(in_features=4096, out_features=1000, bias=True)"
            ]
          },
          "execution_count": 31,
          "metadata": {},
          "output_type": "execute_result"
        }
      ],
      "source": [
        "net.classifier[6]"
      ]
    },
    {
      "cell_type": "code",
      "execution_count": 21,
      "metadata": {
        "id": "7hNhZjBH2ww8"
      },
      "outputs": [],
      "source": [
        "idx = 0\n",
        "img_names = copy.deepcopy(train_dataset.imgs)\n",
        "preds = []\n",
        "y_lst = []\n",
        "\n",
        "for X, y in train_dataloader:\n",
        "    X=X.to(device)\n",
        "    img_name_start_idx = idx*64\n",
        "    preds.extend(netsoftmax(X).detach().cpu().numpy())\n",
        "    y_lst.extend(y.numpy())"
      ]
    },
    {
      "cell_type": "code",
      "execution_count": 22,
      "metadata": {},
      "outputs": [],
      "source": [
        "img_names = copy.deepcopy(train_dataset.imgs)"
      ]
    },
    {
      "cell_type": "code",
      "execution_count": 23,
      "metadata": {},
      "outputs": [],
      "source": [
        "traindf = pd.read_csv(\"./data/book-full-listing-train.csv\")\n",
        "testdf = pd.read_csv(\"./data/book-full-listing-test.csv\")"
      ]
    },
    {
      "cell_type": "code",
      "execution_count": 24,
      "metadata": {},
      "outputs": [
        {
          "data": {
            "text/plain": [
              "'0001956604.jpg'"
            ]
          },
          "execution_count": 24,
          "metadata": {},
          "output_type": "execute_result"
        }
      ],
      "source": [
        "img_names[0][0].split('/')[-1]"
      ]
    },
    {
      "cell_type": "code",
      "execution_count": 25,
      "metadata": {},
      "outputs": [],
      "source": [
        "for i in range(len(img_names)):\n",
        "    img_names[i] = list(img_names[i])\n",
        "    img_names[i][0] = img_names[i][0].split('/')[-1]"
      ]
    },
    {
      "cell_type": "code",
      "execution_count": 26,
      "metadata": {},
      "outputs": [],
      "source": [
        "for i in range(len(img_names)):\n",
        "    img_names[i].append(preds[i])"
      ]
    },
    {
      "cell_type": "code",
      "execution_count": 27,
      "metadata": {},
      "outputs": [
        {
          "data": {
            "text/plain": [
              "Index(['Amazon ID (ASIN)', 'Filename', 'Image URL', 'Title', 'Author',\n",
              "       'Category ID', 'Category', 'label', 'resnet34mini', 'corpus'],\n",
              "      dtype='object')"
            ]
          },
          "execution_count": 27,
          "metadata": {},
          "output_type": "execute_result"
        }
      ],
      "source": [
        "traindf.columns"
      ]
    },
    {
      "cell_type": "code",
      "execution_count": 30,
      "metadata": {},
      "outputs": [
        {
          "data": {
            "text/plain": [
              "(1000,)"
            ]
          },
          "execution_count": 30,
          "metadata": {},
          "output_type": "execute_result"
        }
      ],
      "source": [
        "img_names[0][2].shape"
      ]
    },
    {
      "cell_type": "code",
      "execution_count": 104,
      "metadata": {},
      "outputs": [],
      "source": [
        "img_names_df = pd.DataFrame(img_names, columns=['Filename', 'label', 'resnet34mini'])"
      ]
    },
    {
      "cell_type": "code",
      "execution_count": 108,
      "metadata": {},
      "outputs": [],
      "source": [
        "traindf = traindf.merge(img_names_df, on='Filename')"
      ]
    },
    {
      "cell_type": "code",
      "execution_count": 110,
      "metadata": {},
      "outputs": [],
      "source": [
        "traindf.to_csv('./data/book-full-listing-train.csv', index=False)"
      ]
    },
    {
      "cell_type": "code",
      "execution_count": 111,
      "metadata": {},
      "outputs": [],
      "source": [
        "img_names_test = copy.deepcopy(test_dataset.imgs)"
      ]
    },
    {
      "cell_type": "code",
      "execution_count": 112,
      "metadata": {},
      "outputs": [
        {
          "name": "stderr",
          "output_type": "stream",
          "text": [
            "  0%|          | 0/103 [00:00<?, ?it/s]"
          ]
        },
        {
          "name": "stderr",
          "output_type": "stream",
          "text": [
            "100%|██████████| 103/103 [00:24<00:00,  4.26it/s]\n"
          ]
        }
      ],
      "source": [
        "# idx = 0\n",
        "preds_test = []\n",
        "y_lst_test = []\n",
        "# img_list = []\n",
        "\n",
        "for X, y in tqdm(test_dataloader):\n",
        "    X=X.to(device)\n",
        "    # img_name_start_idx = idx*64\n",
        "    # imgs = img_names[img_name_start_idx:img_name_start_idx+64]\n",
        "    preds_test.extend(netsoftmax(X).detach().cpu().numpy())\n",
        "    y_lst_test.extend(y.numpy())\n",
        "    # img_list.extend(imgs)"
      ]
    },
    {
      "cell_type": "code",
      "execution_count": 113,
      "metadata": {},
      "outputs": [],
      "source": [
        "for i in range(len(img_names_test)):\n",
        "    img_names_test[i] = list(img_names_test[i])\n",
        "    img_names_test[i][0] = img_names_test[i][0].split('/')[-1]\n",
        "\n",
        "for i in range(len(img_names_test)):\n",
        "    img_names_test[i].append(preds_test[i])"
      ]
    },
    {
      "cell_type": "code",
      "execution_count": 117,
      "metadata": {},
      "outputs": [],
      "source": [
        "img_names_test_df = pd.DataFrame(img_names_test, columns=['Filename', 'label', 'resnet34mini'])"
      ]
    },
    {
      "cell_type": "code",
      "execution_count": 122,
      "metadata": {},
      "outputs": [],
      "source": [
        "testdf = testdf.merge(img_names_test_df, on='Filename')"
      ]
    },
    {
      "cell_type": "code",
      "execution_count": 123,
      "metadata": {},
      "outputs": [],
      "source": [
        "testdf.to_csv('./data/book-full-listing-test.csv', index=False)"
      ]
    },
    {
      "cell_type": "code",
      "execution_count": null,
      "metadata": {},
      "outputs": [],
      "source": []
    },
    {
      "cell_type": "code",
      "execution_count": 81,
      "metadata": {},
      "outputs": [],
      "source": [
        "class_to_idx = train_dataset.class_to_idx\n",
        "idx_to_class = {v: k for k, v in class_to_idx.items()}\n",
        "classes = [idx_to_class[i] for i in range(10)]\n",
        "pred_labels =np.argmax(preds, axis=1)\n",
        "# cm = confusion_matrix(y_lst, list(pred_labels))\n",
        "# cm.shape\n",
        "pred_labels_test=np.argmax(preds_test, axis=1)\n",
        "cm_test = confusion_matrix(y_lst_test, list(pred_labels_test))\n"
      ]
    },
    {
      "cell_type": "code",
      "execution_count": 86,
      "metadata": {},
      "outputs": [
        {
          "data": {
            "text/plain": [
              "0.5840048654401703"
            ]
          },
          "execution_count": 86,
          "metadata": {},
          "output_type": "execute_result"
        }
      ],
      "source": [
        "accuracy_score(y_lst_test, pred_labels_test)"
      ]
    },
    {
      "cell_type": "code",
      "execution_count": 85,
      "metadata": {},
      "outputs": [
        {
          "data": {
            "text/plain": [
              "<Axes: >"
            ]
          },
          "execution_count": 85,
          "metadata": {},
          "output_type": "execute_result"
        },
        {
          "data": {
            "image/png": "[encoded data removed]",
            "text/plain": [
              "<Figure size 1000x1000 with 2 Axes>"
            ]
          },
          "metadata": {},
          "output_type": "display_data"
        }
      ],
      "source": [
        "import matplotlib.pyplot as plt\n",
        "import seaborn as sns\n",
        "\n",
        "plt.figure(figsize=(10,10))\n",
        "sns.heatmap(data=cm_test, annot=True, xticklabels=classes, yticklabels=classes, fmt='.0f', cmap='YlGnBu')"
      ]
    },
    {
      "cell_type": "code",
      "execution_count": 46,
      "metadata": {},
      "outputs": [],
      "source": [
        "for i in range(len(img_names)):\n",
        "    # img_list[i].append(preds[i])\n",
        "    try:\n",
        "        img_names[i].append(np.argmax(preds[i]))\n",
        "    except:\n",
        "        print(i)\n",
        "        print(len(img_names))\n",
        "        print(len(preds))"
      ]
    },
    {
      "cell_type": "code",
      "execution_count": 75,
      "metadata": {},
      "outputs": [
        {
          "data": {
            "text/html": [
              "<div>\n",
              "<style scoped>\n",
              "    .dataframe tbody tr th:only-of-type {\n",
              "        vertical-align: middle;\n",
              "    }\n",
              "\n",
              "    .dataframe tbody tr th {\n",
              "        vertical-align: top;\n",
              "    }\n",
              "\n",
              "    .dataframe thead th {\n",
              "        text-align: right;\n",
              "    }\n",
              "</style>\n",
              "<table border=\"1\" class=\"dataframe\">\n",
              "  <thead>\n",
              "    <tr style=\"text-align: right;\">\n",
              "      <th></th>\n",
              "      <th>Amazon ID (ASIN)</th>\n",
              "      <th>Filename</th>\n",
              "      <th>Image URL</th>\n",
              "      <th>Title</th>\n",
              "      <th>Author</th>\n",
              "      <th>Category ID</th>\n",
              "      <th>Category</th>\n",
              "    </tr>\n",
              "  </thead>\n",
              "  <tbody>\n",
              "    <tr>\n",
              "      <th>0</th>\n",
              "      <td>375857508</td>\n",
              "      <td>0375857508.jpg</td>\n",
              "      <td>http://ecx.images-amazon.com/images/I/51o-a5%2...</td>\n",
              "      <td>Alvin Ho: Allergic to Camping, Hiking, and Oth...</td>\n",
              "      <td>Lenore Look</td>\n",
              "      <td>23</td>\n",
              "      <td>Science &amp; Math</td>\n",
              "    </tr>\n",
              "    <tr>\n",
              "      <th>1</th>\n",
              "      <td>980015405</td>\n",
              "      <td>0980015405.jpg</td>\n",
              "      <td>http://ecx.images-amazon.com/images/I/51jqG9AE...</td>\n",
              "      <td>Kissed By The Devil</td>\n",
              "      <td>Dashawn Taylor</td>\n",
              "      <td>22</td>\n",
              "      <td>Romance</td>\n",
              "    </tr>\n",
              "    <tr>\n",
              "      <th>2</th>\n",
              "      <td>804142769</td>\n",
              "      <td>0804142769.jpg</td>\n",
              "      <td>http://ecx.images-amazon.com/images/I/51pRD4ib...</td>\n",
              "      <td>Fodor's Arizona &amp; the Grand Canyon 2015 (Full-...</td>\n",
              "      <td>Fodor's</td>\n",
              "      <td>29</td>\n",
              "      <td>Travel</td>\n",
              "    </tr>\n",
              "    <tr>\n",
              "      <th>3</th>\n",
              "      <td>635010801</td>\n",
              "      <td>0635010801.jpg</td>\n",
              "      <td>http://ecx.images-amazon.com/images/I/51DbBM-Y...</td>\n",
              "      <td>What Is Islam? Who Are Muslims (It's Happening...</td>\n",
              "      <td>Carole Marsh</td>\n",
              "      <td>4</td>\n",
              "      <td>Children's Books</td>\n",
              "    </tr>\n",
              "    <tr>\n",
              "      <th>4</th>\n",
              "      <td>1619219204</td>\n",
              "      <td>1619219204.jpg</td>\n",
              "      <td>http://ecx.images-amazon.com/images/I/51DRMfO8...</td>\n",
              "      <td>Sole Support</td>\n",
              "      <td>Kaje Harper</td>\n",
              "      <td>22</td>\n",
              "      <td>Romance</td>\n",
              "    </tr>\n",
              "  </tbody>\n",
              "</table>\n",
              "</div>"
            ],
            "text/plain": [
              "  Amazon ID (ASIN)        Filename  \\\n",
              "0        375857508  0375857508.jpg   \n",
              "1        980015405  0980015405.jpg   \n",
              "2        804142769  0804142769.jpg   \n",
              "3        635010801  0635010801.jpg   \n",
              "4       1619219204  1619219204.jpg   \n",
              "\n",
              "                                           Image URL  \\\n",
              "0  http://ecx.images-amazon.com/images/I/51o-a5%2...   \n",
              "1  http://ecx.images-amazon.com/images/I/51jqG9AE...   \n",
              "2  http://ecx.images-amazon.com/images/I/51pRD4ib...   \n",
              "3  http://ecx.images-amazon.com/images/I/51DbBM-Y...   \n",
              "4  http://ecx.images-amazon.com/images/I/51DRMfO8...   \n",
              "\n",
              "                                               Title          Author  \\\n",
              "0  Alvin Ho: Allergic to Camping, Hiking, and Oth...     Lenore Look   \n",
              "1                                Kissed By The Devil  Dashawn Taylor   \n",
              "2  Fodor's Arizona & the Grand Canyon 2015 (Full-...         Fodor's   \n",
              "3  What Is Islam? Who Are Muslims (It's Happening...    Carole Marsh   \n",
              "4                                       Sole Support     Kaje Harper   \n",
              "\n",
              "   Category ID          Category  \n",
              "0           23    Science & Math  \n",
              "1           22           Romance  \n",
              "2           29            Travel  \n",
              "3            4  Children's Books  \n",
              "4           22           Romance  "
            ]
          },
          "execution_count": 75,
          "metadata": {},
          "output_type": "execute_result"
        }
      ],
      "source": [
        "traindf.head()"
      ]
    },
    {
      "cell_type": "code",
      "execution_count": 76,
      "metadata": {},
      "outputs": [],
      "source": [
        "img_list_df = pd.DataFrame(img_list, columns=['Filename', 'label'])"
      ]
    },
    {
      "cell_type": "code",
      "execution_count": 77,
      "metadata": {},
      "outputs": [
        {
          "data": {
            "text/html": [
              "<div>\n",
              "<style scoped>\n",
              "    .dataframe tbody tr th:only-of-type {\n",
              "        vertical-align: middle;\n",
              "    }\n",
              "\n",
              "    .dataframe tbody tr th {\n",
              "        vertical-align: top;\n",
              "    }\n",
              "\n",
              "    .dataframe thead th {\n",
              "        text-align: right;\n",
              "    }\n",
              "</style>\n",
              "<table border=\"1\" class=\"dataframe\">\n",
              "  <thead>\n",
              "    <tr style=\"text-align: right;\">\n",
              "      <th></th>\n",
              "      <th>Filename</th>\n",
              "      <th>label</th>\n",
              "    </tr>\n",
              "  </thead>\n",
              "  <tbody>\n",
              "    <tr>\n",
              "      <th>0</th>\n",
              "      <td>0001956604.jpg</td>\n",
              "      <td>0</td>\n",
              "    </tr>\n",
              "    <tr>\n",
              "      <th>1</th>\n",
              "      <td>000195850X.jpg</td>\n",
              "      <td>0</td>\n",
              "    </tr>\n",
              "    <tr>\n",
              "      <th>2</th>\n",
              "      <td>0001961365.jpg</td>\n",
              "      <td>0</td>\n",
              "    </tr>\n",
              "    <tr>\n",
              "      <th>3</th>\n",
              "      <td>0001983776.jpg</td>\n",
              "      <td>0</td>\n",
              "    </tr>\n",
              "    <tr>\n",
              "      <th>4</th>\n",
              "      <td>0007186932.jpg</td>\n",
              "      <td>0</td>\n",
              "    </tr>\n",
              "  </tbody>\n",
              "</table>\n",
              "</div>"
            ],
            "text/plain": [
              "         Filename  label\n",
              "0  0001956604.jpg      0\n",
              "1  000195850X.jpg      0\n",
              "2  0001961365.jpg      0\n",
              "3  0001983776.jpg      0\n",
              "4  0007186932.jpg      0"
            ]
          },
          "execution_count": 77,
          "metadata": {},
          "output_type": "execute_result"
        }
      ],
      "source": [
        "img_list_df.head()"
      ]
    },
    {
      "cell_type": "code",
      "execution_count": 64,
      "metadata": {},
      "outputs": [],
      "source": [
        "traindf.to_csv(\"./data/book-full-listing-train.csv\", index=False)\n",
        "testdf.to_csv(\"./data/book-full-listing-test.csv\", index=False)"
      ]
    }
  ],
  "metadata": {
    "accelerator": "GPU",
    "colab": {
      "gpuType": "T4",
      "provenance": []
    },
    "kernelspec": {
      "display_name": "Python 3",
      "name": "python3"
    },
    "language_info": {
      "codemirror_mode": {
        "name": "ipython",
        "version": 3
      },
      "file_extension": ".py",
      "mimetype": "text/x-python",
      "name": "python",
      "nbconvert_exporter": "python",
      "pygments_lexer": "ipython3",
      "version": "3.10.13"
    }
  },
  "nbformat": 4,
  "nbformat_minor": 0
}
